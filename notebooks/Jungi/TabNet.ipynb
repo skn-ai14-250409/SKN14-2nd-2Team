{
 "cells": [
  {
   "cell_type": "code",
   "execution_count": 80,
   "id": "53f4a5a7",
   "metadata": {},
   "outputs": [],
   "source": [
    "import pandas as pd\n",
    "import matplotlib.pyplot as plt\n",
    "import seaborn as sns\n",
    "\n",
    "from sklearn.preprocessing import StandardScaler\n",
    "from sklearn.model_selection import train_test_split\n",
    "from sklearn.metrics import confusion_matrix, classification_report, accuracy_score, roc_auc_score, roc_curve\n",
    "from pytorch_tabnet.tab_model import TabNetClassifier"
   ]
  },
  {
   "cell_type": "code",
   "execution_count": 81,
   "id": "7d8bb1b9",
   "metadata": {},
   "outputs": [
    {
     "data": {
      "text/html": [
       "<div>\n",
       "<style scoped>\n",
       "    .dataframe tbody tr th:only-of-type {\n",
       "        vertical-align: middle;\n",
       "    }\n",
       "\n",
       "    .dataframe tbody tr th {\n",
       "        vertical-align: top;\n",
       "    }\n",
       "\n",
       "    .dataframe thead th {\n",
       "        text-align: right;\n",
       "    }\n",
       "</style>\n",
       "<table border=\"1\" class=\"dataframe\">\n",
       "  <thead>\n",
       "    <tr style=\"text-align: right;\">\n",
       "      <th></th>\n",
       "      <th>CreditScore</th>\n",
       "      <th>Age</th>\n",
       "      <th>Tenure</th>\n",
       "      <th>Balance</th>\n",
       "      <th>NumOfProducts</th>\n",
       "      <th>HasCrCard</th>\n",
       "      <th>IsActiveMember</th>\n",
       "      <th>EstimatedSalary</th>\n",
       "      <th>Exited</th>\n",
       "      <th>Geography_Germany</th>\n",
       "      <th>Geography_Spain</th>\n",
       "      <th>Gender_Male</th>\n",
       "    </tr>\n",
       "  </thead>\n",
       "  <tbody>\n",
       "    <tr>\n",
       "      <th>0</th>\n",
       "      <td>619</td>\n",
       "      <td>42</td>\n",
       "      <td>2</td>\n",
       "      <td>0.00</td>\n",
       "      <td>1</td>\n",
       "      <td>1</td>\n",
       "      <td>1</td>\n",
       "      <td>101348.88</td>\n",
       "      <td>1</td>\n",
       "      <td>False</td>\n",
       "      <td>False</td>\n",
       "      <td>False</td>\n",
       "    </tr>\n",
       "    <tr>\n",
       "      <th>1</th>\n",
       "      <td>608</td>\n",
       "      <td>41</td>\n",
       "      <td>1</td>\n",
       "      <td>83807.86</td>\n",
       "      <td>1</td>\n",
       "      <td>0</td>\n",
       "      <td>1</td>\n",
       "      <td>112542.58</td>\n",
       "      <td>0</td>\n",
       "      <td>False</td>\n",
       "      <td>True</td>\n",
       "      <td>False</td>\n",
       "    </tr>\n",
       "    <tr>\n",
       "      <th>2</th>\n",
       "      <td>502</td>\n",
       "      <td>42</td>\n",
       "      <td>8</td>\n",
       "      <td>159660.80</td>\n",
       "      <td>3</td>\n",
       "      <td>1</td>\n",
       "      <td>0</td>\n",
       "      <td>113931.57</td>\n",
       "      <td>1</td>\n",
       "      <td>False</td>\n",
       "      <td>False</td>\n",
       "      <td>False</td>\n",
       "    </tr>\n",
       "    <tr>\n",
       "      <th>3</th>\n",
       "      <td>699</td>\n",
       "      <td>39</td>\n",
       "      <td>1</td>\n",
       "      <td>0.00</td>\n",
       "      <td>2</td>\n",
       "      <td>0</td>\n",
       "      <td>0</td>\n",
       "      <td>93826.63</td>\n",
       "      <td>0</td>\n",
       "      <td>False</td>\n",
       "      <td>False</td>\n",
       "      <td>False</td>\n",
       "    </tr>\n",
       "    <tr>\n",
       "      <th>4</th>\n",
       "      <td>850</td>\n",
       "      <td>43</td>\n",
       "      <td>2</td>\n",
       "      <td>125510.82</td>\n",
       "      <td>1</td>\n",
       "      <td>1</td>\n",
       "      <td>1</td>\n",
       "      <td>79084.10</td>\n",
       "      <td>0</td>\n",
       "      <td>False</td>\n",
       "      <td>True</td>\n",
       "      <td>False</td>\n",
       "    </tr>\n",
       "    <tr>\n",
       "      <th>...</th>\n",
       "      <td>...</td>\n",
       "      <td>...</td>\n",
       "      <td>...</td>\n",
       "      <td>...</td>\n",
       "      <td>...</td>\n",
       "      <td>...</td>\n",
       "      <td>...</td>\n",
       "      <td>...</td>\n",
       "      <td>...</td>\n",
       "      <td>...</td>\n",
       "      <td>...</td>\n",
       "      <td>...</td>\n",
       "    </tr>\n",
       "    <tr>\n",
       "      <th>9995</th>\n",
       "      <td>771</td>\n",
       "      <td>39</td>\n",
       "      <td>5</td>\n",
       "      <td>0.00</td>\n",
       "      <td>2</td>\n",
       "      <td>1</td>\n",
       "      <td>0</td>\n",
       "      <td>96270.64</td>\n",
       "      <td>0</td>\n",
       "      <td>False</td>\n",
       "      <td>False</td>\n",
       "      <td>True</td>\n",
       "    </tr>\n",
       "    <tr>\n",
       "      <th>9996</th>\n",
       "      <td>516</td>\n",
       "      <td>35</td>\n",
       "      <td>10</td>\n",
       "      <td>57369.61</td>\n",
       "      <td>1</td>\n",
       "      <td>1</td>\n",
       "      <td>1</td>\n",
       "      <td>101699.77</td>\n",
       "      <td>0</td>\n",
       "      <td>False</td>\n",
       "      <td>False</td>\n",
       "      <td>True</td>\n",
       "    </tr>\n",
       "    <tr>\n",
       "      <th>9997</th>\n",
       "      <td>709</td>\n",
       "      <td>36</td>\n",
       "      <td>7</td>\n",
       "      <td>0.00</td>\n",
       "      <td>1</td>\n",
       "      <td>0</td>\n",
       "      <td>1</td>\n",
       "      <td>42085.58</td>\n",
       "      <td>1</td>\n",
       "      <td>False</td>\n",
       "      <td>False</td>\n",
       "      <td>False</td>\n",
       "    </tr>\n",
       "    <tr>\n",
       "      <th>9998</th>\n",
       "      <td>772</td>\n",
       "      <td>42</td>\n",
       "      <td>3</td>\n",
       "      <td>75075.31</td>\n",
       "      <td>2</td>\n",
       "      <td>1</td>\n",
       "      <td>0</td>\n",
       "      <td>92888.52</td>\n",
       "      <td>1</td>\n",
       "      <td>True</td>\n",
       "      <td>False</td>\n",
       "      <td>True</td>\n",
       "    </tr>\n",
       "    <tr>\n",
       "      <th>9999</th>\n",
       "      <td>792</td>\n",
       "      <td>28</td>\n",
       "      <td>4</td>\n",
       "      <td>130142.79</td>\n",
       "      <td>1</td>\n",
       "      <td>1</td>\n",
       "      <td>0</td>\n",
       "      <td>38190.78</td>\n",
       "      <td>0</td>\n",
       "      <td>False</td>\n",
       "      <td>False</td>\n",
       "      <td>False</td>\n",
       "    </tr>\n",
       "  </tbody>\n",
       "</table>\n",
       "<p>10000 rows × 12 columns</p>\n",
       "</div>"
      ],
      "text/plain": [
       "      CreditScore  Age  Tenure    Balance  NumOfProducts  HasCrCard  \\\n",
       "0             619   42       2       0.00              1          1   \n",
       "1             608   41       1   83807.86              1          0   \n",
       "2             502   42       8  159660.80              3          1   \n",
       "3             699   39       1       0.00              2          0   \n",
       "4             850   43       2  125510.82              1          1   \n",
       "...           ...  ...     ...        ...            ...        ...   \n",
       "9995          771   39       5       0.00              2          1   \n",
       "9996          516   35      10   57369.61              1          1   \n",
       "9997          709   36       7       0.00              1          0   \n",
       "9998          772   42       3   75075.31              2          1   \n",
       "9999          792   28       4  130142.79              1          1   \n",
       "\n",
       "      IsActiveMember  EstimatedSalary  Exited  Geography_Germany  \\\n",
       "0                  1        101348.88       1              False   \n",
       "1                  1        112542.58       0              False   \n",
       "2                  0        113931.57       1              False   \n",
       "3                  0         93826.63       0              False   \n",
       "4                  1         79084.10       0              False   \n",
       "...              ...              ...     ...                ...   \n",
       "9995               0         96270.64       0              False   \n",
       "9996               1        101699.77       0              False   \n",
       "9997               1         42085.58       1              False   \n",
       "9998               0         92888.52       1               True   \n",
       "9999               0         38190.78       0              False   \n",
       "\n",
       "      Geography_Spain  Gender_Male  \n",
       "0               False        False  \n",
       "1                True        False  \n",
       "2               False        False  \n",
       "3               False        False  \n",
       "4                True        False  \n",
       "...               ...          ...  \n",
       "9995            False         True  \n",
       "9996            False         True  \n",
       "9997            False        False  \n",
       "9998            False         True  \n",
       "9999            False        False  \n",
       "\n",
       "[10000 rows x 12 columns]"
      ]
     },
     "execution_count": 81,
     "metadata": {},
     "output_type": "execute_result"
    }
   ],
   "source": [
    "df = pd.read_csv('../data/Churn_Modelling.csv')\n",
    "df.drop(columns=['RowNumber','CustomerId','Surname'],inplace=True)\n",
    "df = pd.get_dummies(df, columns = ['Geography', 'Gender'], drop_first=True)\n",
    "df"
   ]
  },
  {
   "cell_type": "code",
   "execution_count": 82,
   "id": "14ac48a3",
   "metadata": {},
   "outputs": [],
   "source": [
    "X = df.drop(columns=['Exited'])\n",
    "y = df['Exited']"
   ]
  },
  {
   "cell_type": "code",
   "execution_count": 83,
   "id": "a44fa050",
   "metadata": {},
   "outputs": [],
   "source": [
    "# 데이터 전처리\n",
    "sc = StandardScaler()\n",
    "X = sc.fit_transform(X)"
   ]
  },
  {
   "cell_type": "code",
   "execution_count": 84,
   "id": "7a77c735",
   "metadata": {},
   "outputs": [
    {
     "name": "stderr",
     "output_type": "stream",
     "text": [
      "/Users/jungikim/miniconda3/envs/ai_basic_env/lib/python3.12/site-packages/pytorch_tabnet/abstract_model.py:82: UserWarning: Device used : cpu\n",
      "  warnings.warn(f\"Device used : {self.device}\")\n"
     ]
    },
    {
     "name": "stdout",
     "output_type": "stream",
     "text": [
      "epoch 0  | loss: 0.4948  | valid_auc: 0.71068 |  0:00:00s\n",
      "epoch 1  | loss: 0.43258 | valid_auc: 0.76119 |  0:00:00s\n",
      "epoch 2  | loss: 0.4139  | valid_auc: 0.79184 |  0:00:00s\n",
      "epoch 3  | loss: 0.39249 | valid_auc: 0.81226 |  0:00:01s\n",
      "epoch 4  | loss: 0.37935 | valid_auc: 0.81847 |  0:00:01s\n",
      "epoch 5  | loss: 0.37403 | valid_auc: 0.81839 |  0:00:01s\n",
      "epoch 6  | loss: 0.36487 | valid_auc: 0.82724 |  0:00:01s\n",
      "epoch 7  | loss: 0.36532 | valid_auc: 0.82258 |  0:00:01s\n",
      "epoch 8  | loss: 0.35666 | valid_auc: 0.83644 |  0:00:02s\n",
      "epoch 9  | loss: 0.35487 | valid_auc: 0.83293 |  0:00:02s\n",
      "epoch 10 | loss: 0.35217 | valid_auc: 0.83614 |  0:00:02s\n",
      "epoch 11 | loss: 0.35042 | valid_auc: 0.84036 |  0:00:03s\n",
      "epoch 12 | loss: 0.35062 | valid_auc: 0.83755 |  0:00:03s\n",
      "epoch 13 | loss: 0.35149 | valid_auc: 0.83665 |  0:00:03s\n",
      "epoch 14 | loss: 0.3488  | valid_auc: 0.84203 |  0:00:03s\n",
      "epoch 15 | loss: 0.34542 | valid_auc: 0.84062 |  0:00:03s\n",
      "epoch 16 | loss: 0.34997 | valid_auc: 0.83391 |  0:00:04s\n",
      "epoch 17 | loss: 0.35463 | valid_auc: 0.82898 |  0:00:04s\n",
      "epoch 18 | loss: 0.3512  | valid_auc: 0.84268 |  0:00:04s\n",
      "epoch 19 | loss: 0.35225 | valid_auc: 0.84359 |  0:00:04s\n",
      "epoch 20 | loss: 0.35022 | valid_auc: 0.83754 |  0:00:05s\n",
      "epoch 21 | loss: 0.34981 | valid_auc: 0.83647 |  0:00:05s\n",
      "epoch 22 | loss: 0.34647 | valid_auc: 0.8481  |  0:00:05s\n",
      "epoch 23 | loss: 0.34489 | valid_auc: 0.84136 |  0:00:05s\n",
      "epoch 24 | loss: 0.34508 | valid_auc: 0.84593 |  0:00:06s\n",
      "epoch 25 | loss: 0.34065 | valid_auc: 0.85123 |  0:00:06s\n",
      "epoch 26 | loss: 0.34035 | valid_auc: 0.85103 |  0:00:06s\n",
      "epoch 27 | loss: 0.3366  | valid_auc: 0.84468 |  0:00:06s\n",
      "epoch 28 | loss: 0.33916 | valid_auc: 0.84766 |  0:00:07s\n",
      "epoch 29 | loss: 0.33931 | valid_auc: 0.85085 |  0:00:07s\n",
      "epoch 30 | loss: 0.3349  | valid_auc: 0.84422 |  0:00:07s\n",
      "epoch 31 | loss: 0.33424 | valid_auc: 0.84379 |  0:00:07s\n",
      "epoch 32 | loss: 0.33845 | valid_auc: 0.84791 |  0:00:08s\n",
      "epoch 33 | loss: 0.33402 | valid_auc: 0.84235 |  0:00:08s\n",
      "epoch 34 | loss: 0.33636 | valid_auc: 0.85157 |  0:00:08s\n",
      "epoch 35 | loss: 0.33243 | valid_auc: 0.84792 |  0:00:08s\n",
      "epoch 36 | loss: 0.33294 | valid_auc: 0.83831 |  0:00:09s\n",
      "epoch 37 | loss: 0.33281 | valid_auc: 0.85037 |  0:00:09s\n",
      "epoch 38 | loss: 0.33149 | valid_auc: 0.84837 |  0:00:09s\n",
      "epoch 39 | loss: 0.33112 | valid_auc: 0.85166 |  0:00:09s\n",
      "epoch 40 | loss: 0.32928 | valid_auc: 0.85059 |  0:00:09s\n",
      "epoch 41 | loss: 0.33126 | valid_auc: 0.85305 |  0:00:10s\n",
      "epoch 42 | loss: 0.32784 | valid_auc: 0.85393 |  0:00:10s\n",
      "epoch 43 | loss: 0.32845 | valid_auc: 0.8514  |  0:00:10s\n",
      "epoch 44 | loss: 0.331   | valid_auc: 0.85385 |  0:00:10s\n",
      "epoch 45 | loss: 0.3274  | valid_auc: 0.84913 |  0:00:11s\n",
      "epoch 46 | loss: 0.32923 | valid_auc: 0.84806 |  0:00:11s\n",
      "epoch 47 | loss: 0.32722 | valid_auc: 0.85539 |  0:00:11s\n",
      "epoch 48 | loss: 0.32968 | valid_auc: 0.85094 |  0:00:11s\n",
      "epoch 49 | loss: 0.3265  | valid_auc: 0.85047 |  0:00:12s\n",
      "epoch 50 | loss: 0.32368 | valid_auc: 0.85143 |  0:00:12s\n",
      "epoch 51 | loss: 0.32813 | valid_auc: 0.8515  |  0:00:12s\n",
      "epoch 52 | loss: 0.32556 | valid_auc: 0.84473 |  0:00:12s\n",
      "epoch 53 | loss: 0.32238 | valid_auc: 0.85178 |  0:00:13s\n",
      "epoch 54 | loss: 0.32254 | valid_auc: 0.85028 |  0:00:13s\n",
      "epoch 55 | loss: 0.32416 | valid_auc: 0.84864 |  0:00:13s\n",
      "epoch 56 | loss: 0.32502 | valid_auc: 0.84911 |  0:00:13s\n",
      "epoch 57 | loss: 0.32924 | valid_auc: 0.84881 |  0:00:14s\n",
      "\n",
      "Early stopping occurred at epoch 57 with best_epoch = 47 and best_valid_auc = 0.85539\n"
     ]
    },
    {
     "name": "stderr",
     "output_type": "stream",
     "text": [
      "/Users/jungikim/miniconda3/envs/ai_basic_env/lib/python3.12/site-packages/pytorch_tabnet/callbacks.py:172: UserWarning: Best weights from best epoch are automatically used!\n",
      "  warnings.warn(wrn_msg)\n"
     ]
    }
   ],
   "source": [
    "# 학습/검증 분리\n",
    "X_train, X_test, y_train, y_test = train_test_split(X,y,test_size=0.2)\n",
    "\n",
    "# 모델 초기화\n",
    "clf = TabNetClassifier()\n",
    "\n",
    "# 모델 학습\n",
    "clf.fit(\n",
    "    X_train, y_train,                 # 학습 데이터와 라벨\n",
    "    eval_set=[(X_test, y_test)],      # 검증 데이터셋 (성능 평가용)\n",
    "    eval_name=['valid'],              # 검증 데이터셋의 이름 (로그 등에서 사용됨)\n",
    "    eval_metric=['auc'],              # 검증에 사용할 평가 지표 (여기서는 AUC - 클래스 불균형에 강함)\n",
    "    max_epochs=100,                   # 최대 학습 반복 횟수 (Epoch 수)\n",
    "    patience=10,                      # 성능 향상 없을 때 조기 종료할 최대 Epoch 수\n",
    "    batch_size=256,                   # 학습 배치 크기 (미니배치 단위 학습 크기)\n",
    "    virtual_batch_size=128,           # 가상 배치 크기 (BatchNorm 안정화를 위한 내부 배치 크기)\n",
    "    num_workers=0,                    # 데이터 로딩에 사용할 subprocess 수 (0이면 멀티프로세싱 안 씀)\n",
    "    drop_last=False                   # 마지막 배치가 batch_size보다 작더라도 버리지 않고 사용\n",
    ")"
   ]
  },
  {
   "cell_type": "code",
   "execution_count": null,
   "id": "a5bb303d",
   "metadata": {},
   "outputs": [
    {
     "name": "stdout",
     "output_type": "stream",
     "text": [
      "Successfully saved model at ../models/tabnet_model.zip\n"
     ]
    },
    {
     "data": {
      "text/plain": [
       "'../models/tabnet_model.zip'"
      ]
     },
     "execution_count": 85,
     "metadata": {},
     "output_type": "execute_result"
    }
   ],
   "source": [
    "# 모델 저장\n",
    "# clf.save_model('../models/tabnet_model')"
   ]
  },
  {
   "cell_type": "code",
   "execution_count": 86,
   "id": "b9a62538",
   "metadata": {},
   "outputs": [
    {
     "name": "stderr",
     "output_type": "stream",
     "text": [
      "/Users/jungikim/miniconda3/envs/ai_basic_env/lib/python3.12/site-packages/pytorch_tabnet/abstract_model.py:82: UserWarning: Device used : cpu\n",
      "  warnings.warn(f\"Device used : {self.device}\")\n"
     ]
    }
   ],
   "source": [
    "trained_clf = TabNetClassifier()\n",
    "trained_clf.load_model('../models/tabnet_model.zip')"
   ]
  },
  {
   "cell_type": "code",
   "execution_count": 87,
   "id": "a4becdad",
   "metadata": {},
   "outputs": [
    {
     "name": "stdout",
     "output_type": "stream",
     "text": [
      "Validation Accuracy: 0.8685\n"
     ]
    }
   ],
   "source": [
    "# 예측 및 평가\n",
    "y_preds = trained_clf.predict(X_test)\n",
    "print(\"Validation Accuracy:\", accuracy_score(y_test, y_preds))"
   ]
  },
  {
   "cell_type": "code",
   "execution_count": 88,
   "id": "0bae0837",
   "metadata": {},
   "outputs": [
    {
     "name": "stdout",
     "output_type": "stream",
     "text": [
      "✅ Accuracy: 0.8685\n",
      "\n",
      "📋 Classification Report:\n",
      "              precision    recall  f1-score   support\n",
      "\n",
      "           0       0.88      0.96      0.92      1618\n",
      "           1       0.75      0.47      0.58       382\n",
      "\n",
      "    accuracy                           0.87      2000\n",
      "   macro avg       0.82      0.71      0.75      2000\n",
      "weighted avg       0.86      0.87      0.86      2000\n",
      "\n"
     ]
    }
   ],
   "source": [
    "# 정확도\n",
    "acc = accuracy_score(y_test, y_preds)\n",
    "print(\"✅ Accuracy:\", acc)\n",
    "\n",
    "# 정밀도, 재현율, F1 등 전체 리포트\n",
    "print(\"\\n📋 Classification Report:\")\n",
    "print(classification_report(y_test, y_preds))"
   ]
  },
  {
   "cell_type": "code",
   "execution_count": 89,
   "id": "46318f42",
   "metadata": {},
   "outputs": [
    {
     "data": {
      "image/png": "[encoded data removed]",
      "text/plain": [
       "<Figure size 600x500 with 2 Axes>"
      ]
     },
     "metadata": {},
     "output_type": "display_data"
    }
   ],
   "source": [
    "# 혼동 행렬 계산\n",
    "cm = confusion_matrix(y_test, y_preds)\n",
    "\n",
    "# 라벨 지정 (0: 잔류, 1: 이탈)\n",
    "labels = ['Stayed (0)', 'Exited (1)']\n",
    "\n",
    "# 시각화\n",
    "plt.figure(figsize=(6,5))\n",
    "sns.heatmap(cm, annot=True, fmt='d', cmap='Blues', xticklabels=labels, yticklabels=labels)\n",
    "\n",
    "plt.xlabel('Predicted Label')\n",
    "plt.ylabel('True Label')\n",
    "plt.title('Confusion Matrix')\n",
    "plt.tight_layout()\n",
    "plt.show()\n"
   ]
  },
  {
   "cell_type": "code",
   "execution_count": 90,
   "id": "e2c14dd4",
   "metadata": {},
   "outputs": [
    {
     "name": "stdout",
     "output_type": "stream",
     "text": [
      "\n",
      "🔥 AUC Score: 0.8554\n"
     ]
    },
    {
     "data": {
      "image/png": "[encoded data removed]",
      "text/plain": [
       "<Figure size 600x600 with 1 Axes>"
      ]
     },
     "metadata": {},
     "output_type": "display_data"
    }
   ],
   "source": [
    "# 예측 확률값 사용\n",
    "y_probs = trained_clf.predict_proba(X_test)[:, 1] \n",
    "\n",
    "# AUC 계산\n",
    "auc = roc_auc_score(y_test, y_probs)\n",
    "print(f\"\\n🔥 AUC Score: {auc:.4f}\")\n",
    "\n",
    "# ROC Curve 계산\n",
    "fpr, tpr, thresholds = roc_curve(y_test, y_probs)\n",
    "\n",
    "# ROC 그래프\n",
    "plt.figure(figsize=(6, 6))\n",
    "plt.plot(fpr, tpr, label=f'AUC = {auc:.2f}')\n",
    "plt.plot([0, 1], [0, 1], 'k--')  # 무작위 예측선\n",
    "plt.xlabel('False Positive Rate')\n",
    "plt.ylabel('True Positive Rate')\n",
    "plt.title('ROC Curve')\n",
    "plt.legend()\n",
    "plt.grid(True)\n",
    "plt.show()\n"
   ]
  }
 ],
 "metadata": {
  "kernelspec": {
   "display_name": "ai_basic_env",
   "language": "python",
   "name": "python3"
  },
  "language_info": {
   "codemirror_mode": {
    "name": "ipython",
    "version": 3
   },
   "file_extension": ".py",
   "mimetype": "text/x-python",
   "name": "python",
   "nbconvert_exporter": "python",
   "pygments_lexer": "ipython3",
   "version": "3.12.9"
  }
 },
 "nbformat": 4,
 "nbformat_minor": 5
}
